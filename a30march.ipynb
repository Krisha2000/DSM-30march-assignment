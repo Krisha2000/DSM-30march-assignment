{
 "cells": [
  {
   "cell_type": "markdown",
   "id": "2452c5f0-317e-4133-a08c-b301ecb5591e",
   "metadata": {},
   "source": [
    "# Quetion : 1"
   ]
  },
  {
   "cell_type": "markdown",
   "id": "7ae0791f-7961-4a57-9237-e4120aed8c99",
   "metadata": {},
   "source": [
    "Elastic Net Regression is a linear regression model that combines both L1 (Lasso) and L2 (Ridge) regularization techniques. It addresses some of the limitations of these individual techniques by adding a new term to the loss function that includes both the L1 and L2 regularization terms. This allows Elastic Net Regression to select important features while also performing feature grouping and handling multicollinearity in the data.\n",
    "\n",
    "Compared to other regression techniques:\n",
    "\n",
    "Linear regression: Elastic Net Regression adds regularization to prevent overfitting, while linear regression does not.\n",
    "Lasso regression: Elastic Net Regression includes both L1 and L2 regularization, while Lasso only includes L1 regularization.\n",
    "Ridge regression: Elastic Net Regression includes both L1 and L2 regularization, while Ridge only includes L2 regularization."
   ]
  },
  {
   "cell_type": "markdown",
   "id": "47f2e834-f6ff-4dda-a5df-61f9deca509a",
   "metadata": {},
   "source": [
    "# Quetion : 2"
   ]
  },
  {
   "cell_type": "markdown",
   "id": "410512cc-98b1-47ac-8cd2-d1d4e2a8e578",
   "metadata": {},
   "source": [
    " The optimal values of the regularization parameters (alpha and l1_ratio) for Elastic Net Regression can be determined through techniques like cross-validation or grid search. Cross-validation involves splitting the data into training and validation sets, fitting the model with different values of alpha and l1_ratio, and evaluating the model performance on the validation set. Grid search systematically explores a range of parameter combinations to find the best values that optimize a specific evaluation metric, such as mean squared error or R-squared."
   ]
  },
  {
   "cell_type": "markdown",
   "id": "bc2968d8-a82a-4df1-b399-50f2dc9b8f3c",
   "metadata": {},
   "source": [
    "# Quetion : 3"
   ]
  },
  {
   "cell_type": "markdown",
   "id": "05a272c2-eb0b-4aa3-8a8b-78ec8428c60d",
   "metadata": {},
   "source": [
    "Advantages of Elastic Net Regression:\n",
    "\n",
    "It handles multicollinearity between features.\n",
    "It can select important features and perform feature grouping.\n",
    "It allows for a balance between L1 and L2 regularization.\n",
    "Disadvantages of Elastic Net Regression:\n",
    "\n",
    "It can be sensitive to the scale of the features.\n",
    "Choosing the optimal values of the regularization parameters can be challenging.\n",
    "It may not perform well when the number of features is much larger than the number of samples."
   ]
  },
  {
   "cell_type": "markdown",
   "id": "14077602-44f0-44f5-8432-b6ce95f39082",
   "metadata": {},
   "source": [
    "# Quetion : 4"
   ]
  },
  {
   "cell_type": "markdown",
   "id": "c85da2f9-5edd-4f37-a1fe-23e3fead9bfa",
   "metadata": {},
   "source": [
    "Common use cases for Elastic Net Regression include:\n",
    "\n",
    "Predictive modeling: It can be used for tasks like housing price prediction, sales forecasting, or customer churn prediction.\n",
    "Feature selection: It can help identify relevant features in high-dimensional datasets.\n",
    "Gene expression analysis: It can be applied in bioinformatics to analyze gene expression data."
   ]
  },
  {
   "cell_type": "markdown",
   "id": "0dacf19e-f81b-4946-8d1e-6a56f8e72a4b",
   "metadata": {},
   "source": [
    "# Quetion : 5"
   ]
  },
  {
   "cell_type": "markdown",
   "id": "69a8d2d9-a30b-4386-97be-984a160056c3",
   "metadata": {},
   "source": [
    "In Elastic Net Regression, the coefficients represent the relationship between each feature and the target variable. The magnitude of a coefficient indicates the strength of the relationship, and the sign (positive or negative) indicates the direction of the relationship. A positive coefficient suggests a positive correlation, meaning an increase in the feature value leads to an increase in the target variable, while a negative coefficient suggests a negative correlation."
   ]
  },
  {
   "cell_type": "markdown",
   "id": "f17e4378-c3b3-4a19-881d-4c8017513033",
   "metadata": {},
   "source": [
    "# Queion : 6"
   ]
  },
  {
   "cell_type": "markdown",
   "id": "263f062f-1e66-41ed-8b97-d2f59cf61518",
   "metadata": {},
   "source": [
    " When handling missing values in Elastic Net Regression, you have several options:\n",
    "\n",
    "Remove rows with missing values: If the number of rows with missing values is relatively small, you can remove those rows from the dataset.\n",
    "Impute missing values: You can use various techniques to fill in missing values, such as mean imputation, median imputation, or using more advanced methods like K-nearest neighbors or regression imputation.\n",
    "Use algorithms that handle missing values: Some implementations of Elastic Net Regression, like the one provided by scikit-learn, can handle missing values directly by internally imputing them or using a separate missing value indicator."
   ]
  },
  {
   "cell_type": "markdown",
   "id": "5375afcf-72fc-48d1-9a10-0abd535b6a16",
   "metadata": {},
   "source": [
    "# Quetion : 7"
   ]
  },
  {
   "cell_type": "code",
   "execution_count": null,
   "id": "0e78646c-18d2-4a9b-a84d-7d13919e11a2",
   "metadata": {},
   "outputs": [],
   "source": [
    " Elastic Net Regression can be used for feature selection by examining the magnitude of the coefficients. Features with non-zero coefficients indicate their importance in the model. By setting a threshold or using techniques like recursive feature elimination, you can select the most relevant features based on their coefficients."
   ]
  },
  {
   "cell_type": "markdown",
   "id": "13e2e857-f05a-458d-8669-be7c84fac1f8",
   "metadata": {},
   "source": [
    "# Queetion : 8"
   ]
  },
  {
   "cell_type": "code",
   "execution_count": null,
   "id": "a123703e-1109-45a6-9d9e-a141dd266d6e",
   "metadata": {},
   "outputs": [],
   "source": []
  }
 ],
 "metadata": {
  "kernelspec": {
   "display_name": "Python 3 (ipykernel)",
   "language": "python",
   "name": "python3"
  },
  "language_info": {
   "codemirror_mode": {
    "name": "ipython",
    "version": 3
   },
   "file_extension": ".py",
   "mimetype": "text/x-python",
   "name": "python",
   "nbconvert_exporter": "python",
   "pygments_lexer": "ipython3",
   "version": "3.10.8"
  }
 },
 "nbformat": 4,
 "nbformat_minor": 5
}
